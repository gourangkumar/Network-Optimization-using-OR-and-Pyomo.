{
 "cells": [
  {
   "cell_type": "code",
   "execution_count": null,
   "id": "1a4875b0",
   "metadata": {},
   "outputs": [],
   "source": [
    "from pyomo.environ import *\n",
    "import pandas as pd\n"
   ]
  },
  {
   "cell_type": "code",
   "execution_count": null,
   "id": "4d09377d",
   "metadata": {},
   "outputs": [],
   "source": [
    "# Data\n",
    "schools = ['S1', 'S2', 'S3', 'S4', 'S5']\n",
    "grades = ['G1', 'G2', 'G3', 'G4', 'G5', 'G6', 'G7', 'G8', 'G9', 'G10', 'G11', 'G12']\n"
   ]
  },
  {
   "cell_type": "code",
   "execution_count": null,
   "id": "dc05dfbf",
   "metadata": {},
   "outputs": [],
   "source": [
    "distance_data = {\n",
    "    'S1': [0, 1, 2.5, 1.1, 0.5],\n",
    "    'S2': [1, 0, 0.8, 1.7, 3],\n",
    "    'S3': [2.5, 0.8, 0, 3, 5],\n",
    "    'S4': [1.1, 1.7, 3, 0, 1.2],\n",
    "    'S5': [0.5, 3, 5, 1.2, 0]}\n",
    "\n",
    "distance_df = pd.DataFrame(distance_data, index=schools)\n"
   ]
  },
  {
   "cell_type": "code",
   "execution_count": null,
   "id": "5c2f3ee1",
   "metadata": {},
   "outputs": [],
   "source": [
    "enrolment_data = {\n",
    "    'S1': [10, 12, 8, 9, 4, 0, 0, 0, 0, 0, 0, 0],\n",
    "    'S2': [15, 13, 17, 12, 9, 0, 0, 0, 0, 0, 0, 0],\n",
    "    'S3': [3, 22, 9, 12, 19, 8, 4, 6, 11, 8, 10, 14],\n",
    "    'S4': [8, 12, 15, 8, 1, 9, 3, 11, 5, 7, 16, 9],\n",
    "    'S5': [0, 0, 15, 8, 1, 9, 3, 11, 0, 0, 0, 0]}\n",
    "\n",
    "enrolment_df = pd.DataFrame(enrolment_data, index=grades)\n"
   ]
  },
  {
   "cell_type": "code",
   "execution_count": null,
   "id": "ce589a6b",
   "metadata": {},
   "outputs": [],
   "source": [
    "M = 1\n",
    "T = 50"
   ]
  },
  {
   "cell_type": "code",
   "execution_count": null,
   "id": "7c7e9777",
   "metadata": {},
   "outputs": [],
   "source": [
    "# Type of Model chosen.\n",
    "model = ConcreteModel()"
   ]
  },
  {
   "cell_type": "markdown",
   "id": "22fd324f",
   "metadata": {},
   "source": [
    "Here, decision variables are as follows:\n",
    "\n",
    "- $d_{i,j}$ be the distance between school $i$ and school $j$.\n",
    "- $x_i$ be a binary decision variable indicating whether school $i$ is selected.\n",
    "- $y_{i,j,k}$ be a binary decision variable indicating whether the pair of schools $i$ and $j$ is selected for grade $k$.\n",
    "\n",
    "\n"
   ]
  },
  {
   "cell_type": "code",
   "execution_count": null,
   "id": "2d71422e",
   "metadata": {},
   "outputs": [],
   "source": [
    "# Decision Variables\n",
    "model.x = Var(schools, domain=Binary)\n",
    "model.y = Var(schools, schools, grades, domain=Binary)"
   ]
  },
  {
   "cell_type": "markdown",
   "id": "73ece844",
   "metadata": {},
   "source": [
    "The objective function is to minimize the total distance, which can be expressed as:\n",
    "\n",
    "$\\text{minimize} \\quad \\sum_{i} \\sum_{j} \\sum_{k} d_{i,j} \\cdot y_{i,j,k}$\n"
   ]
  },
  {
   "cell_type": "code",
   "execution_count": null,
   "id": "ebccfc75",
   "metadata": {},
   "outputs": [],
   "source": [
    "model.obj = Objective(expr=sum(distance_df.loc[i, j] * model.y[i, j, k] \n",
    "                                for i in schools for j in schools for k in grades), sense=minimize)\n"
   ]
  },
  {
   "cell_type": "code",
   "execution_count": null,
   "id": "333e3247",
   "metadata": {},
   "outputs": [],
   "source": [
    "model.constraints = ConstraintList()"
   ]
  },
  {
   "cell_type": "markdown",
   "id": "2eafe222",
   "metadata": {},
   "source": [
    "Each grade should be relocated to only one school.\n",
    "\n",
    "$\\sum_{j } y_{i,j,k} = 1$\n"
   ]
  },
  {
   "cell_type": "code",
   "execution_count": null,
   "id": "81f34567",
   "metadata": {},
   "outputs": [],
   "source": [
    "for i in schools:\n",
    "    for k in grades:\n",
    "        model.constraints.add(sum(model.y[i, j, k] for j in schools) == 1)\n"
   ]
  },
  {
   "cell_type": "markdown",
   "id": "dd38b3f7",
   "metadata": {},
   "source": [
    "Total enrolment of the relocated grades should meet the minimum threshold if the school is closed.\n",
    "\n",
    "$\\sum_{j=1}^{n} \\sum_{k=1}^{12} E_{ij} \\cdot y_{ijk} \\geq T \\cdot x_{ij} \\quad \\forall i$\n",
    "\n"
   ]
  },
  {
   "cell_type": "code",
   "execution_count": null,
   "id": "d37ab667",
   "metadata": {},
   "outputs": [],
   "source": [
    "for i in schools:\n",
    "    model.constraints.add(sum(enrolment_df.loc[k, i] * model.y[i, j, k] for j in schools for k in grades) \n",
    "                          >= T * model.x[i])\n"
   ]
  },
  {
   "cell_type": "markdown",
   "id": "8b762954",
   "metadata": {},
   "source": [
    "A school can be closed only if all grades it serves can be relocated within the maximum distance.\n",
    "\n",
    "$\\sum_{k=1}^{12} y_{ijk} \\leq M \\cdot x_{ij} \\quad \\forall i$\n",
    "\n"
   ]
  },
  {
   "cell_type": "code",
   "execution_count": null,
   "id": "2d16e5b2",
   "metadata": {},
   "outputs": [],
   "source": [
    "M = len(schools)\n",
    "for i in schools:\n",
    "    model.constraints.add(sum(model.y[i, j, k] for j in schools for k in grades) <= M * model.x[i])\n"
   ]
  },
  {
   "cell_type": "code",
   "execution_count": null,
   "id": "5439a6a8",
   "metadata": {},
   "outputs": [],
   "source": [
    "# Solve\n",
    "solver = SolverFactory('glpk')\n",
    "results = solver.solve(model)\n",
    "\n",
    "# Display Results after solving the model\n",
    "if results.solver.termination_condition == TerminationCondition.optimal:\n",
    "    print(\"Total travel distance:\", model.obj())\n",
    "    print(\"Decision on School Closure:\")\n",
    "    for i in schools:\n",
    "        if model.x[i].value == 1:\n",
    "            print(\"Shut the school.\", i)\n",
    "        else:\n",
    "            print(\"Continue the school\", i)\n",
    "\n",
    "    print(\"Decision on relocation:\")\n",
    "    for i in schools:\n",
    "        for j in schools:\n",
    "            for k in grades:\n",
    "                if model.y[i, j, k].value == 1:\n",
    "                    print(\"Relocate grade\", k, \"from school\", i, \"to school\", j)\n",
    "else:\n",
    "    print(\"No solutions found/ No schools can be closed.\")\n"
   ]
  },
  {
   "cell_type": "code",
   "execution_count": null,
   "id": "b9e2bb7c",
   "metadata": {},
   "outputs": [],
   "source": []
  }
 ],
 "metadata": {
  "kernelspec": {
   "display_name": "Python 3 (ipykernel)",
   "language": "python",
   "name": "python3"
  },
  "language_info": {
   "codemirror_mode": {
    "name": "ipython",
    "version": 3
   },
   "file_extension": ".py",
   "mimetype": "text/x-python",
   "name": "python",
   "nbconvert_exporter": "python",
   "pygments_lexer": "ipython3",
   "version": "3.11.5"
  }
 },
 "nbformat": 4,
 "nbformat_minor": 5
}
